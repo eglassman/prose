{
 "cells": [
  {
   "cell_type": "code",
   "execution_count": 1,
   "metadata": {
    "collapsed": false
   },
   "outputs": [
    {
     "name": "stdout",
     "output_type": "stream",
     "text": [
      "Munge Extracted Data.ipynb  \u001b[34menv\u001b[m\u001b[m/\r\n",
      "doctype.csv                 htmllang.csv\r\n"
     ]
    }
   ],
   "source": [
    "ls"
   ]
  },
  {
   "cell_type": "code",
   "execution_count": 6,
   "metadata": {
    "collapsed": false
   },
   "outputs": [
    {
     "name": "stdout",
     "output_type": "stream",
     "text": [
      "{' Source': ' training_sample_0.html', 'Extracted': '<!DOCTYPE html>'}\n",
      "{' Source': ' training_sample_1.html', 'Extracted': '<!doctype html>'}\n",
      "{' Source': ' training_sample_10.html', 'Extracted': '<html>'}\n",
      "{' Source': ' training_sample_11.html', 'Extracted': '<!DOCTYPE html>'}\n",
      "{' Source': ' training_sample_12.html', 'Extracted': '<!DOCTYPE html>'}\n",
      "{' Source': ' training_sample_13.html', 'Extracted': '<!DOCTYPE html>'}\n",
      "{' Source': ' training_sample_14.html', 'Extracted': '<!DOCTYPE html>'}\n",
      "{' Source': ' training_sample_15.html', 'Extracted': '<!DOCTYPE html>'}\n",
      "{' Source': ' training_sample_16.html', 'Extracted': '<!DOCTYPE html>'}\n",
      "{' Source': ' training_sample_17.html', 'Extracted': '<!doctype html>'}\n",
      "{' Source': ' training_sample_18.html', 'Extracted': '<!DOCTYPE html>'}\n",
      "{' Source': ' training_sample_19.html', 'Extracted': '<!DOCTYPE html>'}\n",
      "{' Source': ' training_sample_2.html', 'Extracted': '<!DOCTYPE html>'}\n",
      "{' Source': ' training_sample_20.html', 'Extracted': '<!DOCTYPE HTML>'}\n",
      "{' Source': ' training_sample_21.html', 'Extracted': '<!DOCTYPE html>'}\n",
      "{' Source': ' training_sample_22.html', 'Extracted': '<!DOCTYPE html>'}\n",
      "{' Source': ' training_sample_23.html', 'Extracted': '<!DOCTYPE html>'}\n",
      "{' Source': ' training_sample_24.html', 'Extracted': '<!DOCTYPE html>'}\n",
      "{' Source': ' training_sample_25.html', 'Extracted': '<!DOCTYPE html>'}\n",
      "{' Source': ' training_sample_26.html', 'Extracted': '<!DOCTYPE html>'}\n",
      "{' Source': ' training_sample_27.html', 'Extracted': '<!DOCTYPE html>'}\n",
      "{' Source': ' training_sample_28.html', 'Extracted': '<!DOCTYPE html>'}\n",
      "{' Source': ' training_sample_29.html', 'Extracted': '<!DOCTYPE html>'}\n",
      "{' Source': ' training_sample_3.html', 'Extracted': '<!DOCTYPE html>'}\n",
      "{' Source': ' training_sample_30.html', 'Extracted': '<!DOCTYPE html>'}\n",
      "{' Source': ' training_sample_31.html', 'Extracted': '<!DOCTYPE html>'}\n",
      "{' Source': ' training_sample_32.html', 'Extracted': '<!DOCTYPE html>'}\n",
      "{' Source': ' training_sample_33.html', 'Extracted': '<!DOCTYPE html>'}\n",
      "{' Source': ' training_sample_34.html', 'Extracted': '<!DOCTYPE html>'}\n",
      "{' Source': ' training_sample_35.html', 'Extracted': '<!DOCTYPE html>'}\n",
      "{' Source': ' training_sample_36.html', 'Extracted': '<!DOCTYPE html>'}\n",
      "{' Source': ' training_sample_37.html', 'Extracted': '<!DOCTYPE html>'}\n",
      "{' Source': ' training_sample_38.html', 'Extracted': '<!DOCTYPE html>'}\n",
      "{' Source': ' training_sample_39.html', 'Extracted': '<!DOCTYPE html>'}\n",
      "{' Source': ' training_sample_4.html', 'Extracted': '<!DOCTYPE html>'}\n",
      "{' Source': ' training_sample_40.html', 'Extracted': '<!DOCTYPE html>'}\n",
      "{' Source': ' training_sample_41.html', 'Extracted': '<!DOCTYPE html>'}\n",
      "{' Source': ' training_sample_42.html', 'Extracted': '<!DOCTYPE html>'}\n",
      "{' Source': ' training_sample_43.html', 'Extracted': '<!DOCTYPE html>'}\n",
      "{' Source': ' training_sample_44.html', 'Extracted': '<!DOCTYPE html>'}\n",
      "{' Source': ' training_sample_45.html', 'Extracted': '<!DOCTYPE html>'}\n",
      "{' Source': ' training_sample_46.html', 'Extracted': '<!DOCTYPE html>'}\n",
      "{' Source': ' training_sample_47.html', 'Extracted': '<!doctype html>'}\n",
      "{' Source': ' training_sample_48.html', 'Extracted': '<html>'}\n",
      "{' Source': ' training_sample_49.html', 'Extracted': '<!DOCTYPE html>'}\n",
      "{' Source': ' training_sample_5.html', 'Extracted': '<!DOCTYPE html>'}\n",
      "{' Source': ' training_sample_6.html', 'Extracted': '<!DOCTYPE html>'}\n",
      "{' Source': ' training_sample_7.html', 'Extracted': '<!DOCTYPE html>'}\n",
      "{' Source': ' training_sample_8.html', 'Extracted': '<!DOCTYPE html>'}\n",
      "{' Source': ' training_sample_9.html', 'Extracted': '<!DOCTYPE html>'}\n",
      "Counter({'<!DOCTYPE html>': 44, '<!doctype html>': 3, '<html>': 2, '<!DOCTYPE HTML>': 1})\n",
      "{' Source': ' training_sample_0.html', 'Extracted': '<html lang=en\">\"'}\n",
      "{' Source': ' training_sample_1.html', 'Extracted': '<html lang=en>'}\n",
      "{' Source': ' training_sample_10.html', 'Extracted': ''}\n",
      "{' Source': ' training_sample_11.html', 'Extracted': ''}\n",
      "{' Source': ' training_sample_12.html', 'Extracted': ''}\n",
      "{' Source': ' training_sample_13.html', 'Extracted': ''}\n",
      "{' Source': ' training_sample_14.html', 'Extracted': '<html lang=en\">\"'}\n",
      "{' Source': ' training_sample_15.html', 'Extracted': '<html lang=en\">\"'}\n",
      "{' Source': ' training_sample_16.html', 'Extracted': ''}\n",
      "{' Source': ' training_sample_17.html', 'Extracted': '<html lang=en\">\"'}\n",
      "{' Source': ' training_sample_18.html', 'Extracted': ''}\n",
      "{' Source': ' training_sample_19.html', 'Extracted': '<html lang=en\">\"'}\n",
      "{' Source': ' training_sample_2.html', 'Extracted': ''}\n",
      "{' Source': ' training_sample_20.html', 'Extracted': ''}\n",
      "{' Source': ' training_sample_21.html', 'Extracted': '<html lang=en\">\"'}\n",
      "{' Source': ' training_sample_22.html', 'Extracted': ''}\n",
      "{' Source': ' training_sample_23.html', 'Extracted': '<html lang=en\">\"'}\n",
      "{' Source': ' training_sample_24.html', 'Extracted': ''}\n",
      "{' Source': ' training_sample_25.html', 'Extracted': ''}\n",
      "{' Source': ' training_sample_26.html', 'Extracted': ''}\n",
      "{' Source': ' training_sample_27.html', 'Extracted': ''}\n",
      "{' Source': ' training_sample_28.html', 'Extracted': '<html lang=en\">\"'}\n",
      "{' Source': ' training_sample_29.html', 'Extracted': ''}\n",
      "{' Source': ' training_sample_3.html', 'Extracted': '<html lang=en\">\"'}\n",
      "{' Source': ' training_sample_30.html', 'Extracted': ''}\n",
      "{' Source': ' training_sample_31.html', 'Extracted': ''}\n",
      "{' Source': ' training_sample_32.html', 'Extracted': '<html lang=en\">\"'}\n",
      "{' Source': ' training_sample_33.html', 'Extracted': ''}\n",
      "{' Source': ' training_sample_34.html', 'Extracted': ''}\n",
      "{' Source': ' training_sample_35.html', 'Extracted': '<html lang=en\">\"'}\n",
      "{' Source': ' training_sample_36.html', 'Extracted': ''}\n",
      "{' Source': ' training_sample_37.html', 'Extracted': '<html lang=en\">\"'}\n",
      "{' Source': ' training_sample_38.html', 'Extracted': ''}\n",
      "{' Source': ' training_sample_39.html', 'Extracted': '<html lang=en\">\"'}\n",
      "{' Source': ' training_sample_4.html', 'Extracted': ''}\n",
      "{' Source': ' training_sample_40.html', 'Extracted': '<html lang=fr\">\"'}\n",
      "{' Source': ' training_sample_41.html', 'Extracted': '<html lang=en\">\"'}\n",
      "{' Source': ' training_sample_42.html', 'Extracted': ''}\n",
      "{' Source': ' training_sample_43.html', 'Extracted': '<html lang=en\">\"'}\n",
      "{' Source': ' training_sample_44.html', 'Extracted': ''}\n",
      "{' Source': ' training_sample_45.html', 'Extracted': ''}\n",
      "{' Source': ' training_sample_46.html', 'Extracted': ''}\n",
      "{' Source': ' training_sample_47.html', 'Extracted': ''}\n",
      "{' Source': ' training_sample_48.html', 'Extracted': ''}\n",
      "{' Source': ' training_sample_49.html', 'Extracted': ''}\n",
      "{' Source': ' training_sample_5.html', 'Extracted': ''}\n",
      "{' Source': ' training_sample_6.html', 'Extracted': ''}\n",
      "{' Source': ' training_sample_7.html', 'Extracted': ''}\n",
      "{' Source': ' training_sample_8.html', 'Extracted': ''}\n",
      "{' Source': ' training_sample_9.html', 'Extracted': ''}\n",
      "Counter({'': 33, '<html lang=en\">\"': 15, '<html lang=fr\">\"': 1, '<html lang=en>': 1})\n"
     ]
    }
   ],
   "source": [
    "import csv\n",
    "import collections\n",
    "\n",
    "doctype_counter = collections.Counter()\n",
    "\n",
    "with open('doctype.csv') as csvfile:\n",
    "    reader = csv.DictReader(csvfile)\n",
    "    for row in reader:\n",
    "        print(row)\n",
    "        doctype_counter.update({row['Extracted']:1})\n",
    "        \n",
    "print(doctype_counter)\n",
    "\n",
    "htmllang_counter = collections.Counter()\n",
    "\n",
    "with open('htmllang.csv') as csvfile:\n",
    "    reader = csv.DictReader(csvfile)\n",
    "    for row in reader:\n",
    "        print(row)\n",
    "        htmllang_counter.update({row['Extracted']:1})\n",
    "        \n",
    "print(htmllang_counter)"
   ]
  },
  {
   "cell_type": "code",
   "execution_count": null,
   "metadata": {
    "collapsed": true
   },
   "outputs": [],
   "source": []
  }
 ],
 "metadata": {
  "kernelspec": {
   "display_name": "Python 3",
   "language": "python",
   "name": "python3"
  },
  "language_info": {
   "codemirror_mode": {
    "name": "ipython",
    "version": 3
   },
   "file_extension": ".py",
   "mimetype": "text/x-python",
   "name": "python",
   "nbconvert_exporter": "python",
   "pygments_lexer": "ipython3",
   "version": "3.5.2"
  }
 },
 "nbformat": 4,
 "nbformat_minor": 2
}
